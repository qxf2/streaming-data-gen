{
 "cells": [
  {
   "cell_type": "markdown",
   "metadata": {},
   "source": [
    "### Interactive Demo of Data Streaming Generator Application"
   ]
  },
  {
   "cell_type": "markdown",
   "metadata": {},
   "source": [
    "This notebook provides a hands-on introduction to the various endpoints available in the app, designed to generate different types of data streams which include regular patterns and data with induced anomalies.\n",
    "\n",
    "Key Features of the app:\n",
    "\n",
    "- Regular Data Streams: Endpoints that generate continuous data based on mathematical functions such as sine and cosine waves.\n",
    "- Anomaly Injection: Features to introduce anomalies in the data, such as random positive square waves and count-based anomalies.\n",
    "- Customization: Flexible parameters to control the characteristics of the generated data.\n"
   ]
  },
  {
   "cell_type": "markdown",
   "metadata": {},
   "source": [
    "#### Using the Notebook"
   ]
  },
  {
   "cell_type": "markdown",
   "metadata": {},
   "source": [
    "##### Setup\n",
    "\n"
   ]
  },
  {
   "cell_type": "markdown",
   "metadata": {},
   "source": [
    "We begin by configuring some utility functions that help us in exploring the endpoints. These include:\n",
    "\n",
    "- consume_stream: This function consumes a data stream from a given URL and yields each data point one by one.\n",
    "\n",
    "- collect_data: This function uses the consume_stream function to retreive the data points and store them which can be used for further processing like printing or plotting the collected data points.\n",
    "\n",
    "- plot_data: This function takes the data points and plots them using Matplotlib."
   ]
  },
  {
   "cell_type": "markdown",
   "metadata": {},
   "source": [
    "Ensure you have the necessary libraries installed:\n"
   ]
  },
  {
   "cell_type": "code",
   "execution_count": null,
   "metadata": {
    "metadata": {},
    "vscode": {
     "languageId": "shellscript"
    }
   },
   "outputs": [],
   "source": [
    "pip install requests"
   ]
  },
  {
   "cell_type": "code",
   "execution_count": null,
   "metadata": {
    "metadata": {},
    "vscode": {
     "languageId": "shellscript"
    }
   },
   "outputs": [],
   "source": [
    "pip install matplotlib"
   ]
  },
  {
   "cell_type": "code",
   "execution_count": null,
   "metadata": {
    "metadata": {}
   },
   "outputs": [],
   "source": [
    "import requests\n",
    "\n",
    "def consume_stream(url):\n",
    "    \"\"\"\n",
    "    Consumes a data stream from the given URL and yields each data point.\n",
    "\n",
    "    Args:\n",
    "        url (str): The URL of the data stream to consume.\n",
    "\n",
    "    Yields:\n",
    "        str: The data point from the stream.\n",
    "    \"\"\"\n",
    "    try:\n",
    "        response = requests.get(url, stream=True)\n",
    "        print(f\"Connected to {url}\")\n",
    "        if response.status_code == 200:\n",
    "            for line in response.iter_lines():\n",
    "                if line:\n",
    "                    decoded_line = line.decode('utf-8')\n",
    "                    yield decoded_line\n",
    "        else:\n",
    "            print(f\"Failed to connect, status code: {response.status_code}\")\n",
    "            print(response.text)\n",
    "    except requests.exceptions.RequestException as error:\n",
    "        print(f\"Request failed: {error}\")\n"
   ]
  },
  {
   "cell_type": "code",
   "execution_count": null,
   "metadata": {
    "metadata": {}
   },
   "outputs": [],
   "source": [
    "def collect_data(url, num_points):\n",
    "    \"\"\"\n",
    "    Collects a specified number of data points from the stream.\n",
    "\n",
    "    Args:\n",
    "        url (str): The URL of the data stream to consume.\n",
    "        num_points (int): The number of data points to collect.\n",
    "\n",
    "    Returns:\n",
    "        list: A list of collected data points.\n",
    "    \"\"\"\n",
    "    data_points = []\n",
    "    stream = consume_stream(url)\n",
    "    \n",
    "    for i, data_point in enumerate(stream):\n",
    "        if i < num_points:\n",
    "            data_points.append(data_point)\n",
    "        else:\n",
    "            break\n",
    "    \n",
    "    return data_points"
   ]
  },
  {
   "cell_type": "code",
   "execution_count": null,
   "metadata": {
    "metadata": {}
   },
   "outputs": [],
   "source": [
    "import matplotlib.pyplot as plt\n",
    "\n",
    "def plot_data(data_points, num_points, title=\"Data Stream\"):\n",
    "    \"\"\"\n",
    "    Plot the collected data points.\n",
    "    \n",
    "    Args:\n",
    "        data_points (list): A list of data points to plot.\n",
    "        num_points (int): The number of data points to plot.\n",
    "        title (str): The title of the plot.\n",
    "    \"\"\"\n",
    "    data_points = [float(value) for value in data_points]\n",
    "\n",
    "    print(data_points)\n",
    "    plt.figure(figsize=(10, 5))\n",
    "    plt.plot(data_points[:num_points], marker='o', linestyle='-')\n",
    "    plt.title(title)\n",
    "    plt.xlabel(\"Data Point Index\")\n",
    "    plt.ylabel(\"Value\")\n",
    "    plt.grid(True)\n",
    "    plt.show()\n"
   ]
  },
  {
   "cell_type": "markdown",
   "metadata": {},
   "source": [
    "### Endpoints:\n",
    "\n",
    "- http://localhost:8000/anomalies/random\n",
    "- http://localhost:8000/anomalies/random-square\n",
    "- http://localhost:8000/anomalies/clustered\n",
    "- http://localhost:8000/anomalies/periodic-spike\n",
    "- http://localhost:8000/anomalies/count-per-duration"
   ]
  },
  {
   "cell_type": "markdown",
   "metadata": {},
   "source": [
    "### How to Run:\n",
    "1. *Change the Stream URL*: Modify the `stream_url` variable below to specify the desired endpoint you want to explore.\n",
    "\n",
    "2. *Run the Steps*: Once you've updated the `stream_url`, execute the cells below to consume, collect, and visualize the data from the specified endpoint.\n"
   ]
  },
  {
   "cell_type": "code",
   "execution_count": null,
   "metadata": {
    "metadata": {}
   },
   "outputs": [],
   "source": [
    "# Endpoint URL for generating random anomalies\n",
    "stream_url = 'http://localhost:8000/anomalies/random-square'"
   ]
  },
  {
   "cell_type": "markdown",
   "metadata": {},
   "source": [
    "Print the infinite stream"
   ]
  },
  {
   "cell_type": "code",
   "execution_count": null,
   "metadata": {
    "metadata": {}
   },
   "outputs": [],
   "source": [
    "# Consume the data stream from the endpoint and print it\n",
    "for data_point in consume_stream(stream_url):\n",
    "    print(data_point)"
   ]
  },
  {
   "cell_type": "markdown",
   "metadata": {},
   "source": [
    "Collect, print and plot fixed number of data points from the stream"
   ]
  },
  {
   "cell_type": "code",
   "execution_count": null,
   "metadata": {
    "metadata": {}
   },
   "outputs": [],
   "source": [
    "# Collect the specified number of data points \n",
    "data_points = collect_data(stream_url, num_points=100)"
   ]
  },
  {
   "cell_type": "code",
   "execution_count": null,
   "metadata": {
    "metadata": {}
   },
   "outputs": [],
   "source": [
    "# Print the collected data points\n",
    "for point in data_points:\n",
    "    print(point)"
   ]
  },
  {
   "cell_type": "code",
   "execution_count": null,
   "metadata": {
    "metadata": {}
   },
   "outputs": [],
   "source": [
    "# Plot the collected data points\n",
    "plot_data(data_points, num_points=100, title=\"Random Anomalies Data\")"
   ]
  },
  {
   "cell_type": "markdown",
   "metadata": {},
   "source": [
    "If you want to customize the parameters, you can construct the URL with the desired parameters and then follow the same steps as outlined earlier."
   ]
  },
  {
   "cell_type": "markdown",
   "metadata": {},
   "source": [
    "Random Anomalies"
   ]
  },
  {
   "cell_type": "code",
   "execution_count": null,
   "metadata": {
    "metadata": {}
   },
   "outputs": [],
   "source": [
    "def construct_url(base_url, base_value, anomaly_probability, anomaly_range, data_interval):\n",
    "    return f\"{base_url}?base_value={base_value}&anomaly_probability={anomaly_probability}&anomaly_range={anomaly_range}&data_interval={data_interval}\"\n",
    "\n",
    "# Using the constructed URL with custom parameters\n",
    "base_url = 'http://localhost:8000/anomalies/random'\n",
    "base_value = 5\n",
    "anomaly_probability = 0.1\n",
    "anomaly_range = 5.0\n",
    "data_interval = 3.0\n",
    "\n",
    "# Construct the custom URL\n",
    "stream_url = construct_url(base_url, base_value, anomaly_probability, anomaly_range, data_interval)\n",
    "\n",
    "# Consume the data stream from the custom URL\n",
    "print(stream_url)"
   ]
  },
  {
   "cell_type": "markdown",
   "metadata": {},
   "source": [
    "Count per duration"
   ]
  },
  {
   "cell_type": "code",
   "execution_count": null,
   "metadata": {
    "metadata": {}
   },
   "outputs": [],
   "source": [
    "# Function to construct the URL with custom parameters\n",
    "def construct_url(base_url, base_value, num_anomalies, min_anomaly_range, max_anomaly_range, data_interval):\n",
    "    return f\"{base_url}?base_value={base_value}&num_anomalies={num_anomalies}&min_anomaly_range={min_anomaly_range}&max_anomaly_range={max_anomaly_range}&data_interval={data_interval}\"\n",
    "\n",
    "# Using the constructed URL with custom parameters\n",
    "base_url = 'http://localhost:8000/anomalies/count-per-duration'\n",
    "base_value = 10\n",
    "num_anomalies = 5\n",
    "min_anomaly_range = 5.0\n",
    "max_anomaly_range = 15.0\n",
    "data_interval = 0.01\n",
    "\n",
    "# Construct the custom URL\n",
    "stream_url = construct_url(base_url, base_value, num_anomalies, min_anomaly_range, max_anomaly_range, data_interval)\n",
    "\n",
    "# Consume the data stream from the custom URL\n",
    "print(stream_url)"
   ]
  },
  {
   "cell_type": "markdown",
   "metadata": {},
   "source": [
    "Periodic Spike"
   ]
  },
  {
   "cell_type": "code",
   "execution_count": null,
   "metadata": {
    "metadata": {}
   },
   "outputs": [],
   "source": [
    "# Function to construct the URL with custom parameters\n",
    "def construct_url(base_url, base_value, spike_interval, min_spike_range, max_spike_range, data_interval):\n",
    "    return f\"{base_url}?base_value={base_value}&spike_interval={spike_interval}&min_spike_range={min_spike_range}&max_spike_range={max_spike_range}&data_interval={data_interval}\"\n",
    "\n",
    "# Using the constructed URL with custom parameters\n",
    "base_url = 'http://localhost:8000/anomalies/periodic-spike'\n",
    "base_value = 10\n",
    "spike_interval = 7\n",
    "min_spike_range = -5.0\n",
    "max_spike_range = 5.0\n",
    "data_interval = 0.01\n",
    "\n",
    "# Construct the custom URL\n",
    "stream_url = construct_url(base_url, base_value, spike_interval, min_spike_range, max_spike_range, data_interval)\n",
    "\n",
    "# Consume the data stream from the custom URL\n",
    "print(stream_url)"
   ]
  },
  {
   "cell_type": "markdown",
   "metadata": {},
   "source": [
    "Clustered"
   ]
  },
  {
   "cell_type": "code",
   "execution_count": null,
   "metadata": {
    "metadata": {}
   },
   "outputs": [],
   "source": [
    "# Function to construct the URL with custom parameters\n",
    "def construct_url(base_url, base_value, anomaly_magnitude, minimum_interval, maximum_interval, min_anomaly_length, max_anomaly_length, data_interval):\n",
    "    return f\"{base_url}?base_value={base_value}&anomaly_magnitude={anomaly_magnitude}&minimum_interval={minimum_interval}&maximum_interval={maximum_interval}&min_anomaly_length={min_anomaly_length}&max_anomaly_length={max_anomaly_length}&data_interval={data_interval}\"\n",
    "\n",
    "# Using the constructed URL with custom parameters\n",
    "base_url = 'http://localhost:8000/anomalies/clustered'\n",
    "base_value = 10\n",
    "anomaly_magnitude = 10.0\n",
    "minimum_interval = 5.0\n",
    "maximum_interval = 15.0\n",
    "min_anomaly_length = 7.0\n",
    "max_anomaly_length = 12.0\n",
    "data_interval = 0.01\n",
    "\n",
    "# Construct the custom URL\n",
    "stream_url = construct_url(base_url, base_value, anomaly_magnitude, minimum_interval, maximum_interval, min_anomaly_length, max_anomaly_length, data_interval)\n",
    "\n",
    "# Consume the data stream from the custom URL\n",
    "print(stream_url)"
   ]
  },
  {
   "cell_type": "markdown",
   "metadata": {},
   "source": [
    "Random Square"
   ]
  },
  {
   "cell_type": "code",
   "execution_count": null,
   "metadata": {
    "metadata": {}
   },
   "outputs": [],
   "source": [
    "def construct_url(base_url, base_value, anomaly_magnitude, minimum_interval, maximum_interval, min_anomaly_duration, max_anomaly_duration, data_interval):\n",
    "    return f\"{base_url}?base_value={base_value}&anomaly_magnitude={anomaly_magnitude}&minimum_interval={minimum_interval}&maximum_interval={maximum_interval}&min_anomaly_duration={min_anomaly_duration}&max_anomaly_duration={max_anomaly_duration}&data_interval={data_interval}\"\n",
    "\n",
    "# Using the constructed URL with custom parameters\n",
    "base_url = 'http://localhost:8000/anomalies/random-square'\n",
    "base_value = 2\n",
    "anomaly_magnitude = 7\n",
    "minimum_interval = 2.0\n",
    "maximum_interval = 10.0\n",
    "min_anomaly_duration = 7.0\n",
    "max_anomaly_duration = 12.0\n",
    "data_interval = 0.01\n",
    "\n",
    "# Construct the custom URL\n",
    "stream_url = construct_url(base_url, base_value, anomaly_magnitude, minimum_interval, maximum_interval, min_anomaly_duration, max_anomaly_duration,data_interval)\n",
    "\n",
    "# Consume the data stream from the custom URL\n",
    "print(stream_url)"
   ]
  }
 ],
 "metadata": {
  "kernelspec": {
   "display_name": "venv_stream",
   "language": "python",
   "name": "python3"
  },
  "language_info": {
   "codemirror_mode": {
    "name": "ipython",
    "version": 3
   },
   "file_extension": ".py",
   "mimetype": "text/x-python",
   "name": "python",
   "nbconvert_exporter": "python",
   "pygments_lexer": "ipython3",
   "version": "3.11.4"
  }
 },
 "nbformat": 4,
 "nbformat_minor": 2
}
